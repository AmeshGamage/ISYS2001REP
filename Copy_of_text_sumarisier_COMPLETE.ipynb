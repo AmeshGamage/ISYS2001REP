{
  "nbformat": 4,
  "nbformat_minor": 0,
  "metadata": {
    "colab": {
      "name": "Copy of text_sumarisier.ipynb",
      "provenance": [],
      "include_colab_link": true
    },
    "kernelspec": {
      "name": "python3",
      "display_name": "Python 3"
    },
    "language_info": {
      "name": "python"
    }
  },
  "cells": [
    {
      "cell_type": "markdown",
      "metadata": {
        "id": "view-in-github",
        "colab_type": "text"
      },
      "source": [
        "<a href=\"https://colab.research.google.com/github/AmeshGamage/ISYS2001REP/blob/main/Copy_of_text_sumarisier_COMPLETE.ipynb\" target=\"_parent\"><img src=\"https://colab.research.google.com/assets/colab-badge.svg\" alt=\"Open In Colab\"/></a>"
      ]
    },
    {
      "cell_type": "markdown",
      "source": [
        "# Text Summarisation\n",
        "\n",
        "Recall an earlier notebook where you were given a task to summarise online content and produce a report. We converted an audio file to text. Similarly, we could write a notebook to convert a PDF or Word document to text or Web pages to text. The strategy is to convert everything to text, summarise the text, and use the summary in the final report.\n",
        "\n",
        "# The Challenge\n",
        "\n",
        "Create a project to summarise text and publish the project in Binder. \n",
        "\n",
        "You can choose how to input the text.  Some ideas include pasting it into a string, reading from a file, extract from a PDF or a webpage. \n",
        " \n",
        "It is okay to follow a online tutoirial or youtube video but make sure you have some understanding of what you are doing. You can ask you tutor for help if needed.  They will either help search, or perhaps explain the code in a tutorial.\n",
        "\n",
        "\n",
        "# Task 0 - Initialise a NEW repository\n",
        "\n",
        "We are going to deploy this notebook using Binder.\n",
        "\n",
        "* Initialise a new PUBLIC GitHub repository, say called, text_summariser.\n",
        "* Import this notebook into the new repository\n",
        "\n"
      ],
      "metadata": {
        "id": "SmVEXRTA1wZn"
      }
    },
    {
      "cell_type": "code",
      "source": [
        "# Install Dependencies\n",
        "!pip install transformers -q\n",
        "!pip install PyMuPDF -q\n",
        "\n",
        "# Get a PDF\n",
        "!wget https://www.dpi.nsw.gov.au/__data/assets/pdf_file/0011/375968/Yellowfin-Tuna.pdf"
      ],
      "metadata": {
        "colab": {
          "base_uri": "https://localhost:8080/"
        },
        "id": "8m7GwiN4ud6I",
        "outputId": "eca22d15-a48e-4b41-d963-d049e5aae681"
      },
      "execution_count": null,
      "outputs": [
        {
          "output_type": "stream",
          "name": "stdout",
          "text": [
            "--2022-04-30 09:15:24--  https://www.dpi.nsw.gov.au/__data/assets/pdf_file/0011/375968/Yellowfin-Tuna.pdf\n",
            "Resolving www.dpi.nsw.gov.au (www.dpi.nsw.gov.au)... 203.82.26.7\n",
            "Connecting to www.dpi.nsw.gov.au (www.dpi.nsw.gov.au)|203.82.26.7|:443... connected.\n",
            "HTTP request sent, awaiting response... 200 OK\n",
            "Length: unspecified [application/pdf]\n",
            "Saving to: ‘Yellowfin-Tuna.pdf.3’\n",
            "\n",
            "Yellowfin-Tuna.pdf.     [     <=>            ] 297.45K   310KB/s    in 1.0s    \n",
            "\n",
            "2022-04-30 09:15:26 (310 KB/s) - ‘Yellowfin-Tuna.pdf.3’ saved [304584]\n",
            "\n"
          ]
        }
      ]
    },
    {
      "cell_type": "code",
      "source": [
        "from bs4 import BeautifulSoup\n",
        "from urllib.request import Request, urlopen\n",
        "from transformers import pipeline\n",
        "import fitz\n",
        "\n",
        "def summarise(article):\n",
        "  '''Returns a summary of a text.  The length of the text has to be greater than 50 words'''\n",
        "  assert len(article.split()) > 50, 'Please make sure your text has at least 50 words'\n",
        "\n",
        "  summary_pipeline = pipeline(\"summarization\", model=\"facebook/bart-large-cnn\")\n",
        "  summary = summary_pipeline(article, max_length = 100, min_length= 20)\n",
        "  text = summary[0]['summary_text'] # get first element, then extract the value for key 'summary text\n",
        "  return text\n",
        "\n",
        "def sumarise_pdf(pdf):\n",
        "  ''' Sumarise the first 400 words on each page of the PDF'''\n",
        "\n",
        "  doc = fitz.open(pdf)\n",
        "  for page in doc:\n",
        "    article = page.get_text(\"Text\")\n",
        "    # The model has a limit size, \n",
        "    # first 400 words on eachpage\n",
        "    article = ' '.join(article.split()[:400])\n",
        "    # Run the summariser pipeline\n",
        "    text = summarise(article)\n",
        "    return text\n",
        "def summarise_webpage(URL):\n",
        "  ''' Sumarise the first 400 words on a website'''\n",
        "  # get webpage\n",
        "  req = Request(URL)\n",
        "  html_page = urlopen(req)\n",
        "  soup = BeautifulSoup(html_page, features=\"html.parser\")\n",
        "\n",
        "  # remove all 'script' and 'style' elements\n",
        "  for script in soup([\"script\", \"style\"]):\n",
        "      script.extract()    # rip it out\n",
        "\n",
        "  text = soup.get_text() # get text\n",
        "  text =  text.splitlines() # break into lines\n",
        "  text = [x for x in text if x] # remove empty lines\n",
        "  text = ' '.join(lines) # combine into one body of text\n",
        "  text = text.split() # split into words\n",
        "  text = text[:400] # get first 400 words\n",
        "  text = ' '.join(text) # join words into text\n",
        "  return summarise(text)\n",
        "\n",
        "\n",
        "\n",
        "# Main Program \n",
        "print(\"PDF Summary\")\n",
        "print(sumarise_pdf(\"Yellowfin-Tuna.pdf\"))"
      ],
      "metadata": {
        "colab": {
          "base_uri": "https://localhost:8080/"
        },
        "id": "1SXoHtUXugnX",
        "outputId": "9ae473f4-53fd-4af4-bc2f-3392406027a4"
      },
      "execution_count": null,
      "outputs": [
        {
          "output_type": "stream",
          "name": "stdout",
          "text": [
            "PDF Summary\n",
            "There is some concern about high rates of fishing in the western and central Pacific. Yellowfin tuna (Thunnus albacares) are distributed throughout the warm-temperate and tropical waters of all oceans. Worldwide, about one million tonnes of yellowfin tuna are harvested annually making it one of the most important fishery resources of the world.\n"
          ]
        }
      ]
    }
  ]
}